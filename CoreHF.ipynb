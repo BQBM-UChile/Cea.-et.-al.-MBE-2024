{
 "cells": [
  {
   "cell_type": "code",
   "execution_count": 1,
   "id": "71922763-39b1-47f8-bdb4-46c4acfa7a5f",
   "metadata": {},
   "outputs": [],
   "source": [
    "from pymol import cmd\n",
    "import pandas as pd\n",
    "import matplotlib.pyplot as plt\n",
    "from sklearn.preprocessing import MinMaxScaler\n",
    "import numpy as np\n",
    "from matplotlib.colors import Normalize\n",
    "from matplotlib.cm import ScalarMappable\n",
    "import matplotlib.colors as mcolors\n",
    "import os\n",
    "import glob\n",
    "from pathlib import Path"
   ]
  },
  {
   "cell_type": "code",
   "execution_count": 2,
   "id": "0f46b0b8-f19f-4199-8c57-7fe1c64da240",
   "metadata": {},
   "outputs": [],
   "source": [
    "def read_contact_data(csv_file: str, cut_off: float) -> pd.DataFrame:\n",
    "    \"\"\" Read data from cpptraj and return a filtered dataframe\n",
    "    \"\"\"\n",
    "    df = pd.read_csv(csv_file, delim_whitespace=True)\n",
    "    df = df.astype({'#Res1': 'int32',\n",
    "               '#Res2' : 'int32',\n",
    "                'TotalFrac' : 'float32'})\n",
    "    df = df.query(f'`TotalFrac` > {cut_off}')\n",
    "    return df\n",
    "\n",
    "def normalize_contact_scale(df: pd.DataFrame, min: float = 2.5, max: float = 15) -> pd.DataFrame: #CONTROL DE GROSOR DE LINEA\n",
    "    \"\"\" Perform lineal scaling of contacts within the ranges min and max \n",
    "    \"\"\"\n",
    "    \n",
    "    reshaped_data = df['Contacts'].values.reshape(-1,1)\n",
    "    scaler = MinMaxScaler(feature_range=(min, max))\n",
    "    normalized_data = scaler.fit_transform(reshaped_data)\n",
    "    df['NormCont'] = normalized_data\n",
    "    return df\n",
    "\n",
    "def get_color_from_value(value: float, min: float = 0.2, max: float = 20) -> str: #CONTROL DE LA ESCALA DE COLOR\n",
    "    \"\"\"Get a HEX code for viridis color in a scale from  min to max\n",
    "    \"\"\"\n",
    "    cmap = plt.cm.viridis\n",
    "    norm = Normalize(vmin=min, vmax=max)\n",
    "    color_rgba = cmap(norm(value))\n",
    "    color_hex = mcolors.to_hex(color_rgba)\n",
    "    color_hex = f\"0x{color_hex[1:]}\"\n",
    "    return color_hex\n",
    "\n",
    "def process_pdb_file(df: pd.DataFrame, pdb_file:str, \n",
    "                     *, save_session: bool = True) -> None:\n",
    "    \"\"\" Takes a pdb file and a  nativecontacts cpptraj resout, return a pymol session with \n",
    "    bonds proportional to the N° of contacts and color according to the fraction \n",
    "    \"\"\"\n",
    "    entry = Path(pdb_file).stem\n",
    "    cmd.reinitialize()\n",
    "    cmd.load(pdb_file)\n",
    "    cmd.set('cartoon_flat_sheets', '0')\n",
    "    cmd.bg_color('white')\n",
    "    cmd.set('dash_gap', '0')\n",
    "    cmd.set('cartoon_transparency', '0.5')\n",
    "    \n",
    "    for i, row in df.iterrows():\n",
    "        resi1 = str(int(row['#Res1']))\n",
    "        resi2 = str(int(row['#Res2']))\n",
    "        width = row['NormCont']\n",
    "        color_dist = get_color_from_value(row['TotalFrac'])\n",
    "        cmd.select('CA1', f'resi {resi1} and name CA and {entry}')\n",
    "        cmd.select('CA2', f'resi {resi2} and name CA and {entry}')\n",
    "        cmd.distance(f'interaction{resi1}-{resi2}_{entry}', 'CA1', 'CA2')\n",
    "        cmd.set('dash_width', f'{width}', f'interaction{resi1}-{resi2}_{entry}')\n",
    "        cmd.color(f'{color_dist}', f'interaction{resi1}-{resi2}_{entry}')\n",
    "    \n",
    "    cmd.group(f'hf_interactions_{entry}', 'interaction*')\n",
    "    cmd.hide('label')\n",
    "\n",
    "    if save_session:\n",
    "        cmd.save(f'HF_contacts_{entry}.pse')   "
   ]
  },
  {
   "cell_type": "code",
   "execution_count": 3,
   "id": "d8e6cd5d-617e-4c3e-aae2-a03917a29f75",
   "metadata": {},
   "outputs": [],
   "source": [
    "##CARGA TODOS LOS RESOUT Y PDBS, LOS PDBS DEBEN ESTAR SIN AGUA NI SAL!!!##\n",
    "resout_files = glob.glob('resout*')\n",
    "pdb_files = glob.glob('*.pdb')"
   ]
  },
  {
   "cell_type": "code",
   "execution_count": 4,
   "id": "4f909d76-e44e-4de4-87d4-7c7e5526a90e",
   "metadata": {},
   "outputs": [
    {
     "name": "stdout",
     "output_type": "stream",
     "text": [
      " PyMOL not running, entering library mode (experimental)\n"
     ]
    }
   ],
   "source": [
    "##GENERA UNA SESSION DE PYMOL PARA CADA PROTEINA\n",
    "for pdb, resout in zip(pdb_files, resout_files):\n",
    "    df = read_contact_data(resout, 0.2)\n",
    "    df = normalize_contact_scale(df)\n",
    "    process_pdb_file(df, pdb)\n",
    "        "
   ]
  },
  {
   "cell_type": "code",
   "execution_count": null,
   "id": "85949e5b-a868-45d5-86f5-782232a48c6e",
   "metadata": {},
   "outputs": [],
   "source": []
  },
  {
   "cell_type": "code",
   "execution_count": null,
   "id": "26781d64-1945-45c8-b5bc-37e9bb91d2ba",
   "metadata": {},
   "outputs": [],
   "source": []
  }
 ],
 "metadata": {
  "kernelspec": {
   "display_name": "Python 3 (ipykernel)",
   "language": "python",
   "name": "python3"
  },
  "language_info": {
   "codemirror_mode": {
    "name": "ipython",
    "version": 3
   },
   "file_extension": ".py",
   "mimetype": "text/x-python",
   "name": "python",
   "nbconvert_exporter": "python",
   "pygments_lexer": "ipython3",
   "version": "3.8.10"
  }
 },
 "nbformat": 4,
 "nbformat_minor": 5
}
